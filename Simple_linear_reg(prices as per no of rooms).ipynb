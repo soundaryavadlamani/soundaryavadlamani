{
 "cells": [
  {
   "cell_type": "markdown",
   "metadata": {},
   "source": [
    "<h3>Simple linear regression<h3>\n",
    "    Problem statement: We are predicting prices of houses depending upon no of rooms (which were randomly generated using numpy random function)."
   ]
  },
  {
   "cell_type": "code",
   "execution_count": 32,
   "metadata": {},
   "outputs": [],
   "source": [
    "import numpy as np\n",
    "import pandas as pd\n",
    "import matplotlib.pyplot as plt\n",
    "import sklearn\n",
    "from sklearn.linear_model import LinearRegression\n",
    "from sklearn.preprocessing import scale"
   ]
  },
  {
   "cell_type": "code",
   "execution_count": 33,
   "metadata": {},
   "outputs": [],
   "source": [
    "%matplotlib inline"
   ]
  },
  {
   "cell_type": "code",
   "execution_count": 34,
   "metadata": {},
   "outputs": [
    {
     "data": {
      "text/plain": [
       "array([[3.94493296],\n",
       "       [3.53987111],\n",
       "       [3.28476331],\n",
       "       [3.79609637],\n",
       "       [3.3787011 ],\n",
       "       [3.69464136],\n",
       "       [4.49475672],\n",
       "       [4.05047695],\n",
       "       [3.3334703 ]])"
      ]
     },
     "execution_count": 34,
     "metadata": {},
     "output_type": "execute_result"
    }
   ],
   "source": [
    "#here no of rooms are randomly generated and changes ever time we run the cell\n",
    "rooms= 2* np.random.rand(100,1)+3\n",
    "rooms[1:10]"
   ]
  },
  {
   "cell_type": "code",
   "execution_count": 35,
   "metadata": {},
   "outputs": [
    {
     "data": {
      "text/plain": [
       "array([[288.77994442],\n",
       "       [286.82138241],\n",
       "       [285.07800968],\n",
       "       [288.01362254],\n",
       "       [285.49990522],\n",
       "       [287.75825159],\n",
       "       [292.93493677],\n",
       "       [289.68255747],\n",
       "       [285.94905122]])"
      ]
     },
     "execution_count": 35,
     "metadata": {},
     "output_type": "execute_result"
    }
   ],
   "source": [
    "#here no of prices are randomly generated with in a linear function and changes ever time we run the cell\n",
    "price = 265 + 6*rooms +abs(np.random.rand(100, 1))\n",
    "price[1:10]"
   ]
  },
  {
   "cell_type": "code",
   "execution_count": 36,
   "metadata": {},
   "outputs": [
    {
     "data": {
      "text/plain": [
       "Text(0, 0.5, 'prices w.r.t no of rooms')"
      ]
     },
     "execution_count": 36,
     "metadata": {},
     "output_type": "execute_result"
    },
    {
     "data": {
      "image/png": "[encoded data removed]",
      "text/plain": [
       "<Figure size 432x288 with 1 Axes>"
      ]
     },
     "metadata": {
      "needs_background": "light"
     },
     "output_type": "display_data"
    }
   ],
   "source": [
    "plt.plot(rooms,price, 'r^')\n",
    "plt.xlabel(\"no of rooms\")\n",
    "plt.ylabel(\"prices w.r.t no of rooms\")"
   ]
  },
  {
   "cell_type": "code",
   "execution_count": 47,
   "metadata": {},
   "outputs": [
    {
     "name": "stdout",
     "output_type": "stream",
     "text": [
      "[265.31658742]\n",
      "[[6.06025244]]\n"
     ]
    }
   ],
   "source": [
    "x=rooms\n",
    "y=price\n",
    "\n",
    "slr=LinearRegression()\n",
    "slr.fit(x,y)\n",
    "#intercept for the best fit line and solpe or gradient value of best fit line\n",
    "print(slr.intercept_)\n",
    "print(slr.coef_)"
   ]
  },
  {
   "cell_type": "code",
   "execution_count": 48,
   "metadata": {},
   "outputs": [
    {
     "name": "stdout",
     "output_type": "stream",
     "text": [
      "0.9938877612971684\n"
     ]
    }
   ],
   "source": [
    "# accuracy of model in prediction with respect to rooms and prices which are randomly generated at first place\n",
    "\n",
    "print(slr.score(x,y))"
   ]
  },
  {
   "cell_type": "code",
   "execution_count": null,
   "metadata": {},
   "outputs": [],
   "source": []
  }
 ],
 "metadata": {
  "kernelspec": {
   "display_name": "Python 3",
   "language": "python",
   "name": "python3"
  },
  "language_info": {
   "codemirror_mode": {
    "name": "ipython",
    "version": 3
   },
   "file_extension": ".py",
   "mimetype": "text/x-python",
   "name": "python",
   "nbconvert_exporter": "python",
   "pygments_lexer": "ipython3",
   "version": "3.8.5"
  }
 },
 "nbformat": 4,
 "nbformat_minor": 4
}
