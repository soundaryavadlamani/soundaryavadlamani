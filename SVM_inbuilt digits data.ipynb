{
 "cells": [
  {
   "cell_type": "code",
   "execution_count": 10,
   "metadata": {},
   "outputs": [],
   "source": [
    "import pandas as pd\n",
    "import sklearn\n",
    "from sklearn.datasets import load_digits"
   ]
  },
  {
   "cell_type": "code",
   "execution_count": 12,
   "metadata": {},
   "outputs": [],
   "source": [
    "digits=load_digits()"
   ]
  },
  {
   "cell_type": "code",
   "execution_count": 13,
   "metadata": {},
   "outputs": [
    {
     "data": {
      "text/plain": [
       "['DESCR', 'data', 'feature_names', 'frame', 'images', 'target', 'target_names']"
      ]
     },
     "execution_count": 13,
     "metadata": {},
     "output_type": "execute_result"
    }
   ],
   "source": [
    "dir(digits)"
   ]
  },
  {
   "cell_type": "code",
   "execution_count": 18,
   "metadata": {},
   "outputs": [],
   "source": [
    "from sklearn.model_selection import train_test_split\n",
    "X_train, X_test, y_train, y_test = train_test_split(digits.data, digits.target, test_size=0.2)"
   ]
  },
  {
   "cell_type": "code",
   "execution_count": 19,
   "metadata": {},
   "outputs": [],
   "source": [
    "from sklearn.svm import SVC"
   ]
  },
  {
   "cell_type": "code",
   "execution_count": 20,
   "metadata": {},
   "outputs": [
    {
     "data": {
      "text/plain": [
       "SVC()"
      ]
     },
     "execution_count": 20,
     "metadata": {},
     "output_type": "execute_result"
    }
   ],
   "source": [
    "model=SVC()\n",
    "model.fit(X_train,y_train)"
   ]
  },
  {
   "cell_type": "code",
   "execution_count": 21,
   "metadata": {},
   "outputs": [
    {
     "data": {
      "text/plain": [
       "array([4, 2, 6, 2, 6, 3, 3, 2, 7, 9, 6, 6, 8, 1, 8, 2, 0, 5, 3, 8, 9, 1,\n",
       "       4, 4, 8, 0, 5, 5, 9, 0, 9, 3, 9, 9, 5, 8, 0, 5, 7, 2, 1, 5, 0, 5,\n",
       "       1, 8, 7, 0, 6, 2, 9, 2, 5, 1, 6, 5, 6, 9, 1, 4, 2, 3, 4, 8, 8, 7,\n",
       "       0, 5, 1, 1, 3, 1, 4, 0, 4, 0, 5, 7, 5, 2, 7, 7, 6, 2, 5, 2, 2, 8,\n",
       "       0, 0, 0, 5, 0, 9, 7, 4, 0, 8, 5, 0, 7, 3, 4, 3, 7, 7, 4, 6, 4, 8,\n",
       "       5, 0, 3, 4, 7, 5, 4, 1, 4, 9, 6, 9, 8, 9, 0, 0, 2, 5, 1, 2, 7, 0,\n",
       "       8, 9, 6, 4, 7, 4, 4, 0, 5, 3, 7, 7, 0, 8, 7, 4, 3, 8, 3, 9, 8, 9,\n",
       "       2, 5, 0, 9, 6, 1, 5, 3, 4, 6, 3, 1, 0, 7, 8, 9, 7, 1, 9, 8, 9, 8,\n",
       "       1, 0, 7, 7, 4, 0, 2, 3, 1, 0, 9, 0, 6, 0, 6, 5, 6, 6, 8, 4, 2, 2,\n",
       "       3, 0, 9, 4, 5, 6, 3, 5, 1, 3, 7, 5, 6, 4, 1, 4, 2, 1, 8, 1, 6, 4,\n",
       "       8, 5, 8, 2, 5, 9, 4, 5, 5, 3, 5, 7, 1, 7, 6, 3, 9, 9, 8, 4, 4, 4,\n",
       "       1, 7, 5, 7, 2, 6, 8, 2, 5, 2, 0, 4, 1, 9, 8, 2, 6, 0, 3, 4, 1, 6,\n",
       "       6, 7, 3, 0, 6, 2, 1, 0, 5, 3, 7, 5, 3, 2, 6, 6, 1, 9, 2, 8, 6, 7,\n",
       "       2, 4, 7, 3, 0, 3, 5, 0, 4, 3, 1, 3, 7, 4, 6, 2, 4, 3, 8, 7, 5, 3,\n",
       "       8, 9, 4, 5, 0, 1, 3, 9, 2, 1, 3, 9, 9, 3, 9, 8, 4, 8, 0, 6, 9, 6,\n",
       "       3, 4, 5, 4, 4, 5, 3, 2, 7, 0, 5, 0, 4, 6, 2, 2, 7, 3, 6, 2, 3, 3,\n",
       "       4, 2, 3, 0, 7, 5, 5, 3])"
      ]
     },
     "execution_count": 21,
     "metadata": {},
     "output_type": "execute_result"
    }
   ],
   "source": [
    "model.predict(X_test)"
   ]
  },
  {
   "cell_type": "code",
   "execution_count": 22,
   "metadata": {},
   "outputs": [
    {
     "data": {
      "text/plain": [
       "0.9888888888888889"
      ]
     },
     "execution_count": 22,
     "metadata": {},
     "output_type": "execute_result"
    }
   ],
   "source": [
    "model.score(X_test,y_test)"
   ]
  },
  {
   "cell_type": "code",
   "execution_count": 23,
   "metadata": {},
   "outputs": [
    {
     "data": {
      "text/plain": [
       "SVC()"
      ]
     },
     "execution_count": 23,
     "metadata": {},
     "output_type": "execute_result"
    }
   ],
   "source": [
    "#with kernel being rbf accuracy varies\n",
    "model=SVC(kernel='rbf')\n",
    "model.fit(X_train,y_train)"
   ]
  },
  {
   "cell_type": "code",
   "execution_count": 24,
   "metadata": {},
   "outputs": [
    {
     "data": {
      "text/plain": [
       "0.9888888888888889"
      ]
     },
     "execution_count": 24,
     "metadata": {},
     "output_type": "execute_result"
    }
   ],
   "source": [
    "model.score(X_test,y_test)"
   ]
  },
  {
   "cell_type": "code",
   "execution_count": 25,
   "metadata": {},
   "outputs": [
    {
     "data": {
      "text/plain": [
       "SVC(kernel='linear')"
      ]
     },
     "execution_count": 25,
     "metadata": {},
     "output_type": "execute_result"
    }
   ],
   "source": [
    "#with kernel being linear accuracy varies\n",
    "model=SVC(kernel='linear')\n",
    "model.fit(X_train,y_train)"
   ]
  },
  {
   "cell_type": "code",
   "execution_count": 26,
   "metadata": {},
   "outputs": [
    {
     "data": {
      "text/plain": [
       "0.9916666666666667"
      ]
     },
     "execution_count": 26,
     "metadata": {},
     "output_type": "execute_result"
    }
   ],
   "source": [
    "model.score(X_test,y_test)"
   ]
  },
  {
   "cell_type": "code",
   "execution_count": 28,
   "metadata": {},
   "outputs": [
    {
     "data": {
      "text/plain": [
       "0.9944444444444445"
      ]
     },
     "execution_count": 28,
     "metadata": {},
     "output_type": "execute_result"
    }
   ],
   "source": [
    "# variying regularization and gamma values will also efect models performance\n",
    "model=SVC(C=10)\n",
    "model.fit(X_train,y_train)\n",
    "model.score(X_test,y_test)"
   ]
  },
  {
   "cell_type": "code",
   "execution_count": 29,
   "metadata": {},
   "outputs": [
    {
     "data": {
      "text/plain": [
       "0.07777777777777778"
      ]
     },
     "execution_count": 29,
     "metadata": {},
     "output_type": "execute_result"
    }
   ],
   "source": [
    "model=SVC(gamma=10)\n",
    "model.fit(X_train,y_train)\n",
    "model.score(X_test,y_test)"
   ]
  },
  {
   "cell_type": "code",
   "execution_count": 31,
   "metadata": {},
   "outputs": [
    {
     "data": {
      "text/plain": [
       "0.9944444444444445"
      ]
     },
     "execution_count": 31,
     "metadata": {},
     "output_type": "execute_result"
    }
   ],
   "source": [
    "model=SVC(C=1000)\n",
    "model.fit(X_train,y_train)\n",
    "model.score(X_test,y_test)"
   ]
  },
  {
   "cell_type": "markdown",
   "metadata": {},
   "source": [
    "99.4 will be the highest accuracy of model achieved hyperparameter tuning"
   ]
  },
  {
   "cell_type": "code",
   "execution_count": null,
   "metadata": {},
   "outputs": [],
   "source": []
  }
 ],
 "metadata": {
  "kernelspec": {
   "display_name": "Python 3",
   "language": "python",
   "name": "python3"
  },
  "language_info": {
   "codemirror_mode": {
    "name": "ipython",
    "version": 3
   },
   "file_extension": ".py",
   "mimetype": "text/x-python",
   "name": "python",
   "nbconvert_exporter": "python",
   "pygments_lexer": "ipython3",
   "version": "3.8.5"
  }
 },
 "nbformat": 4,
 "nbformat_minor": 4
}
